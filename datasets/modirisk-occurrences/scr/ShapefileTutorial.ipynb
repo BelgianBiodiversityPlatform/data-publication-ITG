{
 "cells": [
  {
   "cell_type": "code",
   "execution_count": 45,
   "metadata": {
    "collapsed": false
   },
   "outputs": [
    {
     "ename": "OSError",
     "evalue": "Unable to open boundary dataset file. Only the 'crude' and  'low',\nresolution datasets are installed by default.\nIf you are requesting an, 'intermediate', 'high' or 'full'\nresolution dataset, you may need to download and install those\nfiles separately with\n`conda install -c conda-forge basemap-data-hires`.",
     "output_type": "error",
     "traceback": [
      "\u001b[0;31m---------------------------------------------------------------------------\u001b[0m",
      "\u001b[0;31mFileNotFoundError\u001b[0m                         Traceback (most recent call last)",
      "\u001b[0;32mC:\\Users\\dimitri_brosens\\AppData\\Local\\Continuum\\Anaconda3\\lib\\site-packages\\mpl_toolkits\\basemap\\__init__.py\u001b[0m in \u001b[0;36m_readboundarydata\u001b[0;34m(self, name, as_polygons)\u001b[0m\n\u001b[1;32m   1221\u001b[0m         \u001b[1;32mtry\u001b[0m\u001b[1;33m:\u001b[0m\u001b[1;33m\u001b[0m\u001b[0m\n\u001b[0;32m-> 1222\u001b[0;31m             \u001b[0mbdatfile\u001b[0m \u001b[1;33m=\u001b[0m \u001b[0mopen\u001b[0m\u001b[1;33m(\u001b[0m\u001b[0mos\u001b[0m\u001b[1;33m.\u001b[0m\u001b[0mpath\u001b[0m\u001b[1;33m.\u001b[0m\u001b[0mjoin\u001b[0m\u001b[1;33m(\u001b[0m\u001b[0mbasemap_datadir\u001b[0m\u001b[1;33m,\u001b[0m\u001b[0mname\u001b[0m\u001b[1;33m+\u001b[0m\u001b[1;34m'_'\u001b[0m\u001b[1;33m+\u001b[0m\u001b[0mself\u001b[0m\u001b[1;33m.\u001b[0m\u001b[0mresolution\u001b[0m\u001b[1;33m+\u001b[0m\u001b[1;34m'.dat'\u001b[0m\u001b[1;33m)\u001b[0m\u001b[1;33m,\u001b[0m\u001b[1;34m'rb'\u001b[0m\u001b[1;33m)\u001b[0m\u001b[1;33m\u001b[0m\u001b[0m\n\u001b[0m\u001b[1;32m   1223\u001b[0m             \u001b[0mbdatmetafile\u001b[0m \u001b[1;33m=\u001b[0m \u001b[0mopen\u001b[0m\u001b[1;33m(\u001b[0m\u001b[0mos\u001b[0m\u001b[1;33m.\u001b[0m\u001b[0mpath\u001b[0m\u001b[1;33m.\u001b[0m\u001b[0mjoin\u001b[0m\u001b[1;33m(\u001b[0m\u001b[0mbasemap_datadir\u001b[0m\u001b[1;33m,\u001b[0m\u001b[0mname\u001b[0m\u001b[1;33m+\u001b[0m\u001b[1;34m'meta_'\u001b[0m\u001b[1;33m+\u001b[0m\u001b[0mself\u001b[0m\u001b[1;33m.\u001b[0m\u001b[0mresolution\u001b[0m\u001b[1;33m+\u001b[0m\u001b[1;34m'.dat'\u001b[0m\u001b[1;33m)\u001b[0m\u001b[1;33m,\u001b[0m\u001b[1;34m'r'\u001b[0m\u001b[1;33m)\u001b[0m\u001b[1;33m\u001b[0m\u001b[0m\n",
      "\u001b[0;31mFileNotFoundError\u001b[0m: [Errno 2] No such file or directory: 'C:\\\\Users\\\\dimitri_brosens\\\\AppData\\\\Local\\\\Continuum\\\\Anaconda3\\\\Library\\\\share\\\\basemap\\\\gshhs_i.dat'",
      "\nDuring handling of the above exception, another exception occurred:\n",
      "\u001b[0;31mOSError\u001b[0m                                   Traceback (most recent call last)",
      "\u001b[0;32m<ipython-input-45-6f28f17a5fbe>\u001b[0m in \u001b[0;36m<module>\u001b[0;34m()\u001b[0m\n\u001b[1;32m     25\u001b[0m \u001b[0my2\u001b[0m \u001b[1;33m=\u001b[0m \u001b[1;36m54.\u001b[0m\u001b[1;33m\u001b[0m\u001b[0m\n\u001b[1;32m     26\u001b[0m \u001b[1;33m\u001b[0m\u001b[0m\n\u001b[0;32m---> 27\u001b[0;31m \u001b[0mm\u001b[0m \u001b[1;33m=\u001b[0m \u001b[0mBasemap\u001b[0m\u001b[1;33m(\u001b[0m\u001b[0mresolution\u001b[0m\u001b[1;33m=\u001b[0m\u001b[1;34m'i'\u001b[0m\u001b[1;33m,\u001b[0m\u001b[0mprojection\u001b[0m\u001b[1;33m=\u001b[0m\u001b[1;34m'merc'\u001b[0m\u001b[1;33m,\u001b[0m \u001b[0mllcrnrlat\u001b[0m\u001b[1;33m=\u001b[0m\u001b[0my1\u001b[0m\u001b[1;33m,\u001b[0m\u001b[0murcrnrlat\u001b[0m\u001b[1;33m=\u001b[0m\u001b[0my2\u001b[0m\u001b[1;33m,\u001b[0m\u001b[0mllcrnrlon\u001b[0m\u001b[1;33m=\u001b[0m\u001b[0mx1\u001b[0m\u001b[1;33m,\u001b[0m\u001b[0murcrnrlon\u001b[0m\u001b[1;33m=\u001b[0m\u001b[0mx2\u001b[0m\u001b[1;33m,\u001b[0m\u001b[0mlat_ts\u001b[0m\u001b[1;33m=\u001b[0m\u001b[1;33m(\u001b[0m\u001b[0mx1\u001b[0m\u001b[1;33m+\u001b[0m\u001b[0mx2\u001b[0m\u001b[1;33m)\u001b[0m\u001b[1;33m/\u001b[0m\u001b[1;36m2\u001b[0m\u001b[1;33m)\u001b[0m\u001b[1;33m\u001b[0m\u001b[0m\n\u001b[0m\u001b[1;32m     28\u001b[0m \u001b[0mm\u001b[0m\u001b[1;33m.\u001b[0m\u001b[0mdrawcountries\u001b[0m\u001b[1;33m(\u001b[0m\u001b[0mlinewidth\u001b[0m\u001b[1;33m=\u001b[0m\u001b[1;36m0.5\u001b[0m\u001b[1;33m)\u001b[0m\u001b[1;33m\u001b[0m\u001b[0m\n\u001b[1;32m     29\u001b[0m \u001b[0mm\u001b[0m\u001b[1;33m.\u001b[0m\u001b[0mdrawcoastlines\u001b[0m\u001b[1;33m(\u001b[0m\u001b[0mlinewidth\u001b[0m\u001b[1;33m=\u001b[0m\u001b[1;36m0.5\u001b[0m\u001b[1;33m)\u001b[0m\u001b[1;33m\u001b[0m\u001b[0m\n",
      "\u001b[0;32mC:\\Users\\dimitri_brosens\\AppData\\Local\\Continuum\\Anaconda3\\lib\\site-packages\\mpl_toolkits\\basemap\\__init__.py\u001b[0m in \u001b[0;36m__init__\u001b[0;34m(self, llcrnrlon, llcrnrlat, urcrnrlon, urcrnrlat, llcrnrx, llcrnry, urcrnrx, urcrnry, width, height, projection, resolution, area_thresh, rsphere, ellps, lat_ts, lat_1, lat_2, lat_0, lon_0, lon_1, lon_2, o_lon_p, o_lat_p, k_0, no_rot, suppress_ticks, satellite_height, boundinglat, fix_aspect, anchor, celestial, round, epsg, ax)\u001b[0m\n\u001b[1;32m   1109\u001b[0m         \u001b[1;32mif\u001b[0m \u001b[0mself\u001b[0m\u001b[1;33m.\u001b[0m\u001b[0mresolution\u001b[0m \u001b[1;32mis\u001b[0m \u001b[1;32mnot\u001b[0m \u001b[1;32mNone\u001b[0m\u001b[1;33m:\u001b[0m\u001b[1;33m\u001b[0m\u001b[0m\n\u001b[1;32m   1110\u001b[0m             \u001b[0mself\u001b[0m\u001b[1;33m.\u001b[0m\u001b[0mcoastsegs\u001b[0m\u001b[1;33m,\u001b[0m \u001b[0mself\u001b[0m\u001b[1;33m.\u001b[0m\u001b[0mcoastpolygontypes\u001b[0m \u001b[1;33m=\u001b[0m\u001b[0;31m\\\u001b[0m\u001b[1;33m\u001b[0m\u001b[0m\n\u001b[0;32m-> 1111\u001b[0;31m             \u001b[0mself\u001b[0m\u001b[1;33m.\u001b[0m\u001b[0m_readboundarydata\u001b[0m\u001b[1;33m(\u001b[0m\u001b[1;34m'gshhs'\u001b[0m\u001b[1;33m,\u001b[0m\u001b[0mas_polygons\u001b[0m\u001b[1;33m=\u001b[0m\u001b[1;32mTrue\u001b[0m\u001b[1;33m)\u001b[0m\u001b[1;33m\u001b[0m\u001b[0m\n\u001b[0m\u001b[1;32m   1112\u001b[0m             \u001b[1;31m# reformat for use in matplotlib.patches.Polygon.\u001b[0m\u001b[1;33m\u001b[0m\u001b[1;33m\u001b[0m\u001b[0m\n\u001b[1;32m   1113\u001b[0m             \u001b[0mself\u001b[0m\u001b[1;33m.\u001b[0m\u001b[0mcoastpolygons\u001b[0m \u001b[1;33m=\u001b[0m \u001b[1;33m[\u001b[0m\u001b[1;33m]\u001b[0m\u001b[1;33m\u001b[0m\u001b[0m\n",
      "\u001b[0;32mC:\\Users\\dimitri_brosens\\AppData\\Local\\Continuum\\Anaconda3\\lib\\site-packages\\mpl_toolkits\\basemap\\__init__.py\u001b[0m in \u001b[0;36m_readboundarydata\u001b[0;34m(self, name, as_polygons)\u001b[0m\n\u001b[1;32m   1223\u001b[0m             \u001b[0mbdatmetafile\u001b[0m \u001b[1;33m=\u001b[0m \u001b[0mopen\u001b[0m\u001b[1;33m(\u001b[0m\u001b[0mos\u001b[0m\u001b[1;33m.\u001b[0m\u001b[0mpath\u001b[0m\u001b[1;33m.\u001b[0m\u001b[0mjoin\u001b[0m\u001b[1;33m(\u001b[0m\u001b[0mbasemap_datadir\u001b[0m\u001b[1;33m,\u001b[0m\u001b[0mname\u001b[0m\u001b[1;33m+\u001b[0m\u001b[1;34m'meta_'\u001b[0m\u001b[1;33m+\u001b[0m\u001b[0mself\u001b[0m\u001b[1;33m.\u001b[0m\u001b[0mresolution\u001b[0m\u001b[1;33m+\u001b[0m\u001b[1;34m'.dat'\u001b[0m\u001b[1;33m)\u001b[0m\u001b[1;33m,\u001b[0m\u001b[1;34m'r'\u001b[0m\u001b[1;33m)\u001b[0m\u001b[1;33m\u001b[0m\u001b[0m\n\u001b[1;32m   1224\u001b[0m         \u001b[1;32mexcept\u001b[0m\u001b[1;33m:\u001b[0m\u001b[1;33m\u001b[0m\u001b[0m\n\u001b[0;32m-> 1225\u001b[0;31m             \u001b[1;32mraise\u001b[0m \u001b[0mIOError\u001b[0m\u001b[1;33m(\u001b[0m\u001b[0mmsg\u001b[0m\u001b[1;33m)\u001b[0m\u001b[1;33m\u001b[0m\u001b[0m\n\u001b[0m\u001b[1;32m   1226\u001b[0m         \u001b[0mpolygons\u001b[0m \u001b[1;33m=\u001b[0m \u001b[1;33m[\u001b[0m\u001b[1;33m]\u001b[0m\u001b[1;33m\u001b[0m\u001b[0m\n\u001b[1;32m   1227\u001b[0m         \u001b[0mpolygon_types\u001b[0m \u001b[1;33m=\u001b[0m \u001b[1;33m[\u001b[0m\u001b[1;33m]\u001b[0m\u001b[1;33m\u001b[0m\u001b[0m\n",
      "\u001b[0;31mOSError\u001b[0m: Unable to open boundary dataset file. Only the 'crude' and  'low',\nresolution datasets are installed by default.\nIf you are requesting an, 'intermediate', 'high' or 'full'\nresolution dataset, you may need to download and install those\nfiles separately with\n`conda install -c conda-forge basemap-data-hires`."
     ]
    }
   ],
   "source": [
    "#\n",
    "# BaseMap example by geophysique.be\n",
    "# tutorial 10\n",
    " \n",
    "import numpy as np\n",
    "import matplotlib.pyplot as plt\n",
    "from mpl_toolkits.basemap import Basemap\n",
    " \n",
    "### PARAMETERS FOR MATPLOTLIB :\n",
    "import matplotlib as mpl\n",
    "mpl.rcParams['font.size'] = 10.\n",
    "mpl.rcParams['font.family'] = 'Comic Sans MS'\n",
    "mpl.rcParams['axes.labelsize'] = 8.\n",
    "mpl.rcParams['xtick.labelsize'] = 6.\n",
    "mpl.rcParams['ytick.labelsize'] = 6.\n",
    " \n",
    "fig = plt.figure(figsize=(11.7,8.3))\n",
    "#Custom adjust of the subplots\n",
    "plt.subplots_adjust(left=0.05,right=0.95,top=0.90,bottom=0.05,wspace=0.15,hspace=0.05)\n",
    "ax = plt.subplot(111)\n",
    "#Let's create a basemap of Europe\n",
    "x1 = -5.0\n",
    "x2 = 15.\n",
    "y1 = 45.\n",
    "y2 = 54.\n",
    " \n",
    "m = Basemap(resolution='i',projection='merc', llcrnrlat=y1,urcrnrlat=y2,llcrnrlon=x1,urcrnrlon=x2,lat_ts=(x1+x2)/2)\n",
    "m.drawcountries(linewidth=0.5)\n",
    "m.drawcoastlines(linewidth=0.5)\n",
    "m.drawparallels(np.arange(y1,y2,2.),labels=[1,0,0,0],color='black',dashes=[1,0],labelstyle='+/-',linewidth=0.2) # draw parallels\n",
    "m.drawmeridians(np.arange(x1,x2,2.),labels=[0,0,0,1],color='black',dashes=[1,0],labelstyle='+/-',linewidth=0.2) # draw meridians\n",
    " \n",
    "from matplotlib.collections import LineCollection\n",
    "from matplotlib import cm\n",
    "import shapefile\n",
    " \n",
    "r = shapefile.Reader(r\"borders\\bel_adm3\")\n",
    "shapes = r.shapes()\n",
    "records = r.records()\n",
    " \n",
    "for record, shape in zip(records,shapes):\n",
    "    lons,lats = zip(*shape.points)\n",
    "    data = np.array(m(lons, lats)).T\n",
    " \n",
    "    if len(shape.parts) == 1:\n",
    "        segs = [data,]\n",
    "    else:\n",
    "        segs = []\n",
    "        for i in range(1,len(shape.parts)):\n",
    "            index = shape.parts[i-1]\n",
    "            index2 = shape.parts[i]\n",
    "            segs.append(data[index:index2])\n",
    "        segs.append(data[index2:])\n",
    " \n",
    "    lines = LineCollection(segs,antialiaseds=(1,))\n",
    "    lines.set_facecolors(cm.jet(np.random.rand(1)))\n",
    "    lines.set_edgecolors('k')\n",
    "    lines.set_linewidth(0.1)\n",
    "    ax.add_collection(lines)\n",
    " \n",
    "plt.savefig('tutorial10.png',dpi=300)\n",
    "plt.show()\n",
    " \n"
   ]
  },
  {
   "cell_type": "code",
   "execution_count": 49,
   "metadata": {
    "collapsed": false
   },
   "outputs": [],
   "source": [
    "import matplotlib.patches as mpatches\n",
    "import matplotlib.pyplot as plt\n",
    "import shapely.geometry as sgeom\n",
    "\n",
    "import cartopy.crs as ccrs\n",
    "import cartopy.io.shapereader as shpreader\n",
    "\n",
    "\n"
   ]
  },
  {
   "cell_type": "code",
   "execution_count": 50,
   "metadata": {
    "collapsed": true
   },
   "outputs": [],
   "source": [
    "def sample_data():\n",
    "    \"\"\"\n",
    "    Returns a list of latitudes and a list of longitudes (lons, lats)\n",
    "    for Hurricane Katrina (2005).\n",
    "\n",
    "    The data was originally sourced from the HURDAT2 dataset from AOML/NOAA:\n",
    "    http://www.aoml.noaa.gov/hrd/hurdat/newhurdat-all.html on 14th Dec 2012.\n",
    "\n",
    "    \"\"\"\n",
    "    lons = [-75.1, -75.7, -76.2, -76.5, -76.9, -77.7, -78.4, -79.0,\n",
    "            -79.6, -80.1, -80.3, -81.3, -82.0, -82.6, -83.3, -84.0,\n",
    "            -84.7, -85.3, -85.9, -86.7, -87.7, -88.6, -89.2, -89.6,\n",
    "            -89.6, -89.6, -89.6, -89.6, -89.1, -88.6, -88.0, -87.0,\n",
    "            -85.3, -82.9]\n",
    "\n",
    "    lats = [23.1, 23.4, 23.8, 24.5, 25.4, 26.0, 26.1, 26.2, 26.2, 26.0,\n",
    "            25.9, 25.4, 25.1, 24.9, 24.6, 24.4, 24.4, 24.5, 24.8, 25.2,\n",
    "            25.7, 26.3, 27.2, 28.2, 29.3, 29.5, 30.2, 31.1, 32.6, 34.1,\n",
    "            35.6, 37.0, 38.6, 40.1]\n",
    "\n",
    "    return lons, lats\n"
   ]
  },
  {
   "cell_type": "code",
   "execution_count": 51,
   "metadata": {
    "collapsed": false
   },
   "outputs": [
    {
     "ename": "SyntaxError",
     "evalue": "invalid syntax (<ipython-input-51-5472a110ebb5>, line 59)",
     "output_type": "error",
     "traceback": [
      "\u001b[0;36m  File \u001b[0;32m\"<ipython-input-51-5472a110ebb5>\"\u001b[0;36m, line \u001b[0;32m59\u001b[0m\n\u001b[0;31m    main()*\u001b[0m\n\u001b[0m           ^\u001b[0m\n\u001b[0;31mSyntaxError\u001b[0m\u001b[0;31m:\u001b[0m invalid syntax\n"
     ]
    }
   ],
   "source": [
    "def main():\n",
    "    ax = plt.axes([0, 0, 1, 1],\n",
    "                  projection=ccrs.LambertConformal())\n",
    "\n",
    "    ax.set_extent([-125, -66.5, 20, 50], ccrs.Geodetic())\n",
    "\n",
    "    shapename = 'admin_1_states_provinces_lakes_shp'\n",
    "    states_shp = shpreader.natural_earth(resolution='110m',\n",
    "                                         category='cultural', name=shapename)\n",
    "\n",
    "    lons, lats = sample_data()\n",
    "\n",
    "    # to get the effect of having just the states without a map \"background\"\n",
    "    # turn off the outline and background patches\n",
    "    ax.background_patch.set_visible(False)\n",
    "    ax.outline_patch.set_visible(False)\n",
    "\n",
    "    plt.title('US States which intersect the track '\n",
    "              'of Hurricane Katrina (2005)')\n",
    "\n",
    "    # turn the lons and lats into a shapely LineString\n",
    "    track = sgeom.LineString(zip(lons, lats))\n",
    "\n",
    "    # buffer the linestring by two degrees (note: this is a non-physical\n",
    "    # distance)*\n",
    "    track_buffer = track.buffer(2)\n",
    "\n",
    "    for state in shpreader.Reader(states_shp).geometries():\n",
    "        # pick a default color for the land with a black outline,\n",
    "        # this will change if the storm intersects with our track\n",
    "        facecolor = [0.9375, 0.9375, 0.859375]\n",
    "        edgecolor = 'black'\n",
    "\n",
    "        if state.intersects(track):\n",
    "            facecolor = 'red'\n",
    "        elif state.intersects(track_buffer):\n",
    "            facecolor = '#FF7E00'\n",
    "\n",
    "        ax.add_geometries([state], ccrs.PlateCarree(),\n",
    "                          facecolor=facecolor, edgecolor=edgecolor)\n",
    "\n",
    "    ax.add_geometries([track_buffer], ccrs.PlateCarree(),\n",
    "                      facecolor='#C8A2C8', alpha=0.5)\n",
    "    ax.add_geometries([track], ccrs.PlateCarree(),\n",
    "                      facecolor='none')\n",
    "\n",
    "    # make two proxy artists to add to a legend\n",
    "    direct_hit = mpatches.Rectangle((0, 0), 1, 1, facecolor=\"red\")\n",
    "    within_2_deg = mpatches.Rectangle((0, 0), 1, 1, facecolor=\"#FF7E00\")\n",
    "    labels = ['State directly intersects\\nwith track',\n",
    "              'State is within \\n2 degrees of track']\n",
    "    plt.legend([direct_hit, within_2_deg], labels,\n",
    "               loc='lower left', bbox_to_anchor=(0.025, -0.1), fancybox=True)\n",
    "\n",
    "    plt.show()\n",
    "\n",
    "\n",
    "if __name__ == '__main__':\n",
    "    main()*"
   ]
  },
  {
   "cell_type": "code",
   "execution_count": null,
   "metadata": {
    "collapsed": true
   },
   "outputs": [],
   "source": []
  }
 ],
 "metadata": {
  "kernelspec": {
   "display_name": "Python 3",
   "language": "python",
   "name": "python3"
  },
  "language_info": {
   "codemirror_mode": {
    "name": "ipython",
    "version": 3
   },
   "file_extension": ".py",
   "mimetype": "text/x-python",
   "name": "python",
   "nbconvert_exporter": "python",
   "pygments_lexer": "ipython3",
   "version": "3.6.0"
  }
 },
 "nbformat": 4,
 "nbformat_minor": 2
}
